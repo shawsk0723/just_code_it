{
 "cells": [
  {
   "cell_type": "markdown",
   "id": "d8a5d178",
   "metadata": {},
   "source": [
    "https://thegrayarea.tech/5-python-automation-scripts-i-use-every-day-74c4313f2b47"
   ]
  },
  {
   "cell_type": "markdown",
   "id": "d86ccb90",
   "metadata": {},
   "source": [
    "https://www.codespeedy.com/download-youtube-video-as-mp3-using-python/"
   ]
  },
  {
   "cell_type": "markdown",
   "id": "0646b088",
   "metadata": {},
   "source": [
    "파이썬 코드 5줄로 유튜브 다운로드하기"
   ]
  },
  {
   "cell_type": "code",
   "execution_count": 2,
   "id": "f8f476b9",
   "metadata": {},
   "outputs": [
    {
     "name": "stdout",
     "output_type": "stream",
     "text": [
      "Collecting pytube\n",
      "  Downloading pytube-12.1.2-py3-none-any.whl (57 kB)\n",
      "Installing collected packages: pytube\n",
      "Successfully installed pytube-12.1.2\n",
      "Note: you may need to restart the kernel to use updated packages.\n"
     ]
    }
   ],
   "source": [
    "%pip install pytube"
   ]
  },
  {
   "cell_type": "code",
   "execution_count": null,
   "id": "3110fd3d",
   "metadata": {},
   "outputs": [],
   "source": []
  },
  {
   "cell_type": "markdown",
   "id": "937aea97",
   "metadata": {},
   "source": [
    "https://thegrayarea.tech/5-python-automation-scripts-i-use-every-day-74c4313f2b47"
   ]
  },
  {
   "cell_type": "code",
   "execution_count": 16,
   "id": "97942de0",
   "metadata": {},
   "outputs": [
    {
     "data": {
      "text/plain": [
       "'3.9.12 (main, Apr  4 2022, 05:22:27) [MSC v.1916 64 bit (AMD64)]'"
      ]
     },
     "execution_count": 16,
     "metadata": {},
     "output_type": "execute_result"
    }
   ],
   "source": [
    "import os\n",
    "import sys\n",
    "sys.version"
   ]
  },
  {
   "cell_type": "code",
   "execution_count": null,
   "id": "58a2087b",
   "metadata": {},
   "outputs": [],
   "source": []
  },
  {
   "cell_type": "code",
   "execution_count": 4,
   "id": "ce70c5de",
   "metadata": {},
   "outputs": [],
   "source": [
    "from pytube import YouTube"
   ]
  },
  {
   "cell_type": "code",
   "execution_count": 13,
   "id": "4d53e336",
   "metadata": {},
   "outputs": [
    {
     "name": "stdout",
     "output_type": "stream",
     "text": [
      "Enter a youtube video's URLhttps://youtu.be/vORDkdgLzEs\n"
     ]
    },
    {
     "data": {
      "text/plain": [
       "'D:\\\\git\\\\github\\\\just_code_it\\\\youtube_download\\\\아이유 (IU) - 드라마 (Drama)  가사.mp4'"
      ]
     },
     "execution_count": 13,
     "metadata": {},
     "output_type": "execute_result"
    }
   ],
   "source": [
    "from pytube import YouTube\n",
    "link = input(\"Enter a youtube video's URL\") # i.e. https://youtu.be/dQw4w9WgXcQ\n",
    "yt = YouTube(link)\n",
    "yt.streams.filter(only_audio=True).first().download()"
   ]
  },
  {
   "cell_type": "code",
   "execution_count": null,
   "id": "92fb2dce",
   "metadata": {},
   "outputs": [],
   "source": [
    "https://youtu.be/vORDkdgLzEs"
   ]
  },
  {
   "cell_type": "code",
   "execution_count": 23,
   "id": "841c0fec",
   "metadata": {},
   "outputs": [
    {
     "name": "stdout",
     "output_type": "stream",
     "text": [
      "Enter a youtube video's URL:\n",
      "https://youtu.be/vORDkdgLzEs\n"
     ]
    },
    {
     "data": {
      "text/plain": [
       "'D:\\\\git\\\\github\\\\just_code_it\\\\youtube_download\\\\아이유 (IU) - 드라마 (Drama)  가사.mp4'"
      ]
     },
     "execution_count": 23,
     "metadata": {},
     "output_type": "execute_result"
    }
   ],
   "source": [
    "from pytube import YouTube\n",
    "link = input(\"Enter a youtube video's URL:\\n\") # i.e. https://youtu.be/dQw4w9WgXcQ\n",
    "yt = YouTube(link)\n",
    "filePath = yt.streams.filter(only_audio=True).first().download()"
   ]
  },
  {
   "cell_type": "code",
   "execution_count": 15,
   "id": "cfea0c5f",
   "metadata": {},
   "outputs": [
    {
     "data": {
      "text/plain": [
       "'D:\\\\git\\\\github\\\\just_code_it\\\\youtube_download\\\\아이유 (IU) - 드라마 (Drama)  가사.mp4'"
      ]
     },
     "execution_count": 15,
     "metadata": {},
     "output_type": "execute_result"
    }
   ],
   "source": [
    "filePath"
   ]
  },
  {
   "cell_type": "code",
   "execution_count": 18,
   "id": "84209b13",
   "metadata": {},
   "outputs": [],
   "source": [
    "import os\n",
    "from pytube import YouTube\n",
    "link = input(\"Enter a youtube video's URL:\\n\") # i.e. https://youtu.be/dQw4w9WgXcQ\n",
    "yt = YouTube(link)\n",
    "filePath = yt.streams.filter(only_audio=True).first().download()\n",
    "os.rename(filePath, filePath.replace('mp4', 'mp3'))"
   ]
  },
  {
   "cell_type": "code",
   "execution_count": 25,
   "id": "813450b2",
   "metadata": {},
   "outputs": [
    {
     "name": "stdout",
     "output_type": "stream",
     "text": [
      "Enter a youtube video's URL:\n",
      "https://youtu.be/vORDkdgLzEs\n",
      "mp3FilePath = D:\\git\\github\\just_code_it\\youtube_download\\아이유 (IU) - 드라마 (Drama)  가사.mp3\n"
     ]
    }
   ],
   "source": [
    "import os\n",
    "from pytube import YouTube\n",
    "link = input(\"Enter a youtube video's URL:\\n\") # i.e. https://youtu.be/dQw4w9WgXcQ\n",
    "yt = YouTube(link)\n",
    "filePath = yt.streams.filter(only_audio=True).first().download()\n",
    "mp3FilePath = filePath.replace('mp4', 'mp3')\n",
    "os.rename(filePath, mp3FilePath)\n",
    "print(f'mp3FilePath = {mp3FilePath}')"
   ]
  },
  {
   "cell_type": "code",
   "execution_count": null,
   "id": "3296e315",
   "metadata": {},
   "outputs": [],
   "source": []
  }
 ],
 "metadata": {
  "kernelspec": {
   "display_name": "Python 3 (ipykernel)",
   "language": "python",
   "name": "python3"
  },
  "language_info": {
   "codemirror_mode": {
    "name": "ipython",
    "version": 3
   },
   "file_extension": ".py",
   "mimetype": "text/x-python",
   "name": "python",
   "nbconvert_exporter": "python",
   "pygments_lexer": "ipython3",
   "version": "3.9.12"
  }
 },
 "nbformat": 4,
 "nbformat_minor": 5
}
