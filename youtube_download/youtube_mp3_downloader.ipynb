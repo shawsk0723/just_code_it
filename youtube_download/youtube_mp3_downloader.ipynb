{
 "cells": [
  {
   "cell_type": "markdown",
   "id": "6e128f43",
   "metadata": {},
   "source": [
    "https://thegrayarea.tech/5-python-automation-scripts-i-use-every-day-74c4313f2b47"
   ]
  },
  {
   "cell_type": "markdown",
   "id": "c6046478",
   "metadata": {},
   "source": [
    "https://www.codespeedy.com/download-youtube-video-as-mp3-using-python/"
   ]
  },
  {
   "cell_type": "markdown",
   "id": "b3fe206a",
   "metadata": {},
   "source": [
    "파이썬 코드 5줄로 유튜브 다운로드하기"
   ]
  },
  {
   "cell_type": "code",
   "execution_count": 2,
   "id": "837fa283",
   "metadata": {},
   "outputs": [
    {
     "name": "stdout",
     "output_type": "stream",
     "text": [
      "Collecting pytube\n",
      "  Downloading pytube-12.1.2-py3-none-any.whl (57 kB)\n",
      "Installing collected packages: pytube\n",
      "Successfully installed pytube-12.1.2\n",
      "Note: you may need to restart the kernel to use updated packages.\n"
     ]
    }
   ],
   "source": [
    "%pip install pytube"
   ]
  },
  {
   "cell_type": "code",
   "execution_count": null,
   "id": "07591793",
   "metadata": {},
   "outputs": [],
   "source": []
  },
  {
   "cell_type": "markdown",
   "id": "64ea5b11",
   "metadata": {},
   "source": [
    "https://thegrayarea.tech/5-python-automation-scripts-i-use-every-day-74c4313f2b47"
   ]
  },
  {
   "cell_type": "code",
   "execution_count": 16,
   "id": "0c3ff3e2",
   "metadata": {},
   "outputs": [
    {
     "data": {
      "text/plain": [
       "'3.9.12 (main, Apr  4 2022, 05:22:27) [MSC v.1916 64 bit (AMD64)]'"
      ]
     },
     "execution_count": 16,
     "metadata": {},
     "output_type": "execute_result"
    }
   ],
   "source": [
    "import os\n",
    "import sys\n",
    "sys.version"
   ]
  },
  {
   "cell_type": "code",
   "execution_count": null,
   "id": "89fd5068",
   "metadata": {},
   "outputs": [],
   "source": []
  },
  {
   "cell_type": "code",
   "execution_count": 4,
   "id": "57ad338f",
   "metadata": {},
   "outputs": [],
   "source": [
    "from pytube import YouTube"
   ]
  },
  {
   "cell_type": "code",
   "execution_count": 13,
   "id": "03b45318",
   "metadata": {},
   "outputs": [
    {
     "name": "stdout",
     "output_type": "stream",
     "text": [
      "Enter a youtube video's URLhttps://youtu.be/vORDkdgLzEs\n"
     ]
    },
    {
     "data": {
      "text/plain": [
       "'D:\\\\git\\\\github\\\\just_code_it\\\\youtube_download\\\\아이유 (IU) - 드라마 (Drama)  가사.mp4'"
      ]
     },
     "execution_count": 13,
     "metadata": {},
     "output_type": "execute_result"
    }
   ],
   "source": [
    "from pytube import YouTube\n",
    "link = input(\"Enter a youtube video's URL\") # i.e. https://youtu.be/dQw4w9WgXcQ\n",
    "yt = YouTube(link)\n",
    "yt.streams.filter(only_audio=True).first().download()"
   ]
  },
  {
   "cell_type": "code",
   "execution_count": null,
   "id": "48793523",
   "metadata": {},
   "outputs": [],
   "source": [
    "https://youtu.be/vORDkdgLzEs"
   ]
  },
  {
   "cell_type": "code",
   "execution_count": 21,
   "id": "69de7430",
   "metadata": {},
   "outputs": [
    {
     "name": "stdout",
     "output_type": "stream",
     "text": [
      "Enter a youtube video's URL:\n",
      "https://youtu.be/vORDkdgLzEs\n"
     ]
    }
   ],
   "source": [
    "from pytube import YouTube\n",
    "link = input(\"Enter a youtube video's URL:\\n\") # i.e. https://youtu.be/dQw4w9WgXcQ\n",
    "yt = YouTube(link)\n",
    "filePath = yt.streams.filter(only_audio=True).first().download()"
   ]
  },
  {
   "cell_type": "code",
   "execution_count": 15,
   "id": "50e2b3fb",
   "metadata": {},
   "outputs": [
    {
     "data": {
      "text/plain": [
       "'D:\\\\git\\\\github\\\\just_code_it\\\\youtube_download\\\\아이유 (IU) - 드라마 (Drama)  가사.mp4'"
      ]
     },
     "execution_count": 15,
     "metadata": {},
     "output_type": "execute_result"
    }
   ],
   "source": [
    "filePath"
   ]
  },
  {
   "cell_type": "code",
   "execution_count": 18,
   "id": "9fb4b7d6",
   "metadata": {},
   "outputs": [],
   "source": [
    "os.rename(filePath, filePath.replace('mp4', 'mp3'))"
   ]
  },
  {
   "cell_type": "code",
   "execution_count": 20,
   "id": "96188e43",
   "metadata": {},
   "outputs": [
    {
     "name": "stdout",
     "output_type": "stream",
     "text": [
      "Enter a youtube video's URLhttps://youtu.be/vORDkdgLzEs\n",
      "mp3FilePath = D:\\git\\github\\just_code_it\\youtube_download\\아이유 (IU) - 드라마 (Drama)  가사.mp3\n"
     ]
    }
   ],
   "source": [
    "import os\n",
    "from pytube import YouTube\n",
    "link = input(\"Enter a youtube video's URL:\\n\") # i.e. https://youtu.be/dQw4w9WgXcQ\n",
    "yt = YouTube(link)\n",
    "filePath = yt.streams.filter(only_audio=True).first().download()\n",
    "mp3FilePath = filePath.replace('mp4', 'mp3')\n",
    "os.rename(filePath, mp3FilePath)\n",
    "print(f'mp3FilePath = {mp3FilePath}')"
   ]
  },
  {
   "cell_type": "code",
   "execution_count": null,
   "id": "2078928c",
   "metadata": {},
   "outputs": [],
   "source": []
  }
 ],
 "metadata": {
  "kernelspec": {
   "display_name": "Python 3 (ipykernel)",
   "language": "python",
   "name": "python3"
  },
  "language_info": {
   "codemirror_mode": {
    "name": "ipython",
    "version": 3
   },
   "file_extension": ".py",
   "mimetype": "text/x-python",
   "name": "python",
   "nbconvert_exporter": "python",
   "pygments_lexer": "ipython3",
   "version": "3.9.12"
  }
 },
 "nbformat": 4,
 "nbformat_minor": 5
}
