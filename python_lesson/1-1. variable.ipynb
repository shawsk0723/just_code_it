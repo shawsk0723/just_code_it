{
 "cells": [
  {
   "cell_type": "code",
   "execution_count": null,
   "id": "5d80bab2",
   "metadata": {},
   "outputs": [],
   "source": []
  },
  {
   "cell_type": "code",
   "execution_count": null,
   "id": "3956fcbe",
   "metadata": {},
   "outputs": [],
   "source": [
    "a = 5\n",
    "b = 3\n",
    "c = a + b\n",
    "print(c)"
   ]
  },
  {
   "cell_type": "code",
   "execution_count": null,
   "id": "c48affde",
   "metadata": {},
   "outputs": [],
   "source": [
    "first_name = '코드'\n",
    "last_name = '장인'\n",
    "full_name = first_name + ' ' + last_name\n",
    "print(full_name)"
   ]
  },
  {
   "cell_type": "code",
   "execution_count": null,
   "id": "727298a6",
   "metadata": {},
   "outputs": [],
   "source": [
    "a = 5 #정수\n",
    "b = 3.14 #실수\n",
    "print(type(a))\n",
    "print(type(b))"
   ]
  },
  {
   "cell_type": "code",
   "execution_count": null,
   "id": "cd054f83",
   "metadata": {},
   "outputs": [],
   "source": [
    "text = 'I am a code master!'\n",
    "print(len(text))   \n",
    "print(text.upper())\n",
    "print(text.lower())"
   ]
  },
  {
   "cell_type": "code",
   "execution_count": null,
   "id": "7697ddfa",
   "metadata": {},
   "outputs": [],
   "source": [
    "my_list = [1, 2, 3, '넷', '다섯']\n",
    "print(my_list[0])\n",
    "print(my_list[3])\n",
    "print(len(my_list))"
   ]
  },
  {
   "cell_type": "code",
   "execution_count": null,
   "id": "99782e55",
   "metadata": {},
   "outputs": [],
   "source": [
    "my_dict = {'name': '코드장인', 'weight': 65, 'job': '개발자'}\n",
    "print(my_dict['name'])\n",
    "print(my_dict['weight'])\n",
    "print(len(my_dict))"
   ]
  },
  {
   "cell_type": "code",
   "execution_count": null,
   "id": "43df0470",
   "metadata": {},
   "outputs": [],
   "source": [
    "my_level = '똥손'\n",
    "print(my_level)\n",
    "\n",
    "my_level = '금손'\n",
    "print(my_level)"
   ]
  },
  {
   "cell_type": "code",
   "execution_count": null,
   "id": "5aca43ca",
   "metadata": {},
   "outputs": [],
   "source": [
    "a = '3'\n",
    "b = int(a)\n",
    "c = float(a)\n",
    "print(b)\n",
    "print(c)\n"
   ]
  },
  {
   "cell_type": "code",
   "execution_count": null,
   "id": "4fdb8f65",
   "metadata": {},
   "outputs": [],
   "source": [
    "a = True\n",
    "b = False\n",
    "print(a and b)\n",
    "print(a or b)\n",
    "print(not a)"
   ]
  },
  {
   "cell_type": "code",
   "execution_count": null,
   "id": "c715542f",
   "metadata": {},
   "outputs": [],
   "source": [
    "# 유효한 변수명: age, my_age, myAge, MYAGE\n",
    "my_age = 30\n",
    "print(my_age)   # 출력결과: 30"
   ]
  },
  {
   "cell_type": "code",
   "execution_count": null,
   "id": "d3fc9a26",
   "metadata": {},
   "outputs": [],
   "source": [
    "# 유효하지 않은 변수명: 2_age, my-age, my age, MY.AGE\n",
    "2_age"
   ]
  },
  {
   "cell_type": "markdown",
   "id": "deeabc46",
   "metadata": {},
   "source": [
    "\"\"\"\n",
    "FIN\n",
    "\"\"\""
   ]
  },
  {
   "cell_type": "code",
   "execution_count": 1,
   "id": "cbca8c13",
   "metadata": {},
   "outputs": [
    {
     "name": "stdout",
     "output_type": "stream",
     "text": [
      "sleep~\n",
      "sleep~\n",
      "test code- 현재 시간 출력하기\n",
      "2023-05-04 09:29:54.888295\n",
      "sleep~\n",
      "sleep~\n",
      "function exit\n"
     ]
    },
    {
     "ename": "SystemExit",
     "evalue": "",
     "output_type": "error",
     "traceback": [
      "An exception has occurred, use %tb to see the full traceback.\n",
      "\u001b[1;31mSystemExit\u001b[0m\n"
     ]
    },
    {
     "name": "stderr",
     "output_type": "stream",
     "text": [
      "C:\\ProgramData\\Anaconda3\\lib\\site-packages\\IPython\\core\\interactiveshell.py:3377: UserWarning: To exit: use 'exit', 'quit', or Ctrl-D.\n",
      "  warn(\"To exit: use 'exit', 'quit', or Ctrl-D.\", stacklevel=1)\n"
     ]
    }
   ],
   "source": [
    "import schedule\n",
    "import time\n",
    "import datetime\n",
    "import sys\n",
    "\n",
    "#스케쥴 모듈이 동작시킬 코드 : 현재 시간 출력\n",
    "def test_function():\n",
    "    now = datetime.datetime.now()\n",
    "    print(\"test code- 현재 시간 출력하기\")\n",
    "    print(now)\n",
    "\n",
    "#프로그램을 종료시키기 위한 함수\n",
    "def exit():\n",
    "    print(\"function exit\")\n",
    "    sys.exit()\n",
    "    \n",
    "#1초마다 test_fuction을 동작시키다가 \"22:21\"이 되면 프로그램 종료\n",
    "schedule.every(10).seconds.do(test_function)\n",
    "schedule.every().day.at(\"09:30\").do(exit)\n",
    "\n",
    "\n",
    "#무한 루프를 돌면서 스케쥴을 유지한다.\n",
    "while True:\n",
    "    schedule.run_pending()\n",
    "    print('sleep~')\n",
    "    time.sleep(5)\n"
   ]
  },
  {
   "cell_type": "code",
   "execution_count": null,
   "id": "691c7377",
   "metadata": {},
   "outputs": [],
   "source": []
  },
  {
   "cell_type": "code",
   "execution_count": 2,
   "id": "709dacf0",
   "metadata": {},
   "outputs": [
    {
     "name": "stdout",
     "output_type": "stream",
     "text": [
      "Collecting pandas-datareader\n",
      "  Downloading pandas_datareader-0.10.0-py3-none-any.whl (109 kB)\n",
      "     -------------------------------------- 109.5/109.5 kB 2.1 MB/s eta 0:00:00\n",
      "Requirement already satisfied: lxml in c:\\programdata\\anaconda3\\lib\\site-packages (from pandas-datareader) (4.9.2)\n",
      "Requirement already satisfied: requests>=2.19.0 in c:\\programdata\\anaconda3\\lib\\site-packages (from pandas-datareader) (2.27.1)\n",
      "Requirement already satisfied: pandas>=0.23 in c:\\programdata\\anaconda3\\lib\\site-packages (from pandas-datareader) (1.4.2)\n",
      "Requirement already satisfied: pytz>=2020.1 in c:\\programdata\\anaconda3\\lib\\site-packages (from pandas>=0.23->pandas-datareader) (2022.7)\n",
      "Requirement already satisfied: numpy>=1.18.5 in c:\\programdata\\anaconda3\\lib\\site-packages (from pandas>=0.23->pandas-datareader) (1.23.5)\n",
      "Requirement already satisfied: python-dateutil>=2.8.1 in c:\\programdata\\anaconda3\\lib\\site-packages (from pandas>=0.23->pandas-datareader) (2.8.2)\n",
      "Requirement already satisfied: idna<4,>=2.5 in c:\\programdata\\anaconda3\\lib\\site-packages (from requests>=2.19.0->pandas-datareader) (3.4)\n",
      "Requirement already satisfied: urllib3<1.27,>=1.21.1 in c:\\programdata\\anaconda3\\lib\\site-packages (from requests>=2.19.0->pandas-datareader) (1.26.9)\n",
      "Requirement already satisfied: charset-normalizer~=2.0.0 in c:\\programdata\\anaconda3\\lib\\site-packages (from requests>=2.19.0->pandas-datareader) (2.0.4)\n",
      "Requirement already satisfied: certifi>=2017.4.17 in c:\\programdata\\anaconda3\\lib\\site-packages (from requests>=2.19.0->pandas-datareader) (2022.12.7)\n",
      "Requirement already satisfied: six>=1.5 in c:\\programdata\\anaconda3\\lib\\site-packages (from python-dateutil>=2.8.1->pandas>=0.23->pandas-datareader) (1.16.0)\n",
      "Installing collected packages: pandas-datareader\n",
      "Successfully installed pandas-datareader-0.10.0\n"
     ]
    }
   ],
   "source": [
    "!pip install pandas-datareader"
   ]
  },
  {
   "cell_type": "code",
   "execution_count": 3,
   "id": "f183fd43",
   "metadata": {},
   "outputs": [],
   "source": [
    "import pandas_datareader as pdr\n",
    "import pandas as pd\n",
    "import datetime\n",
    "import matplotlib.pyplot as plt"
   ]
  },
  {
   "cell_type": "code",
   "execution_count": 11,
   "id": "1d771abd",
   "metadata": {},
   "outputs": [],
   "source": [
    "#datetime으로 시작과 종료 날짜를 만든다.\n",
    "start = datetime.datetime (1900, 1, 1)\n",
    "end = datetime.datetime (2023, 5, 4)"
   ]
  },
  {
   "cell_type": "code",
   "execution_count": 12,
   "id": "6f07c51b",
   "metadata": {},
   "outputs": [
    {
     "data": {
      "text/html": [
       "<div>\n",
       "<style scoped>\n",
       "    .dataframe tbody tr th:only-of-type {\n",
       "        vertical-align: middle;\n",
       "    }\n",
       "\n",
       "    .dataframe tbody tr th {\n",
       "        vertical-align: top;\n",
       "    }\n",
       "\n",
       "    .dataframe thead th {\n",
       "        text-align: right;\n",
       "    }\n",
       "</style>\n",
       "<table border=\"1\" class=\"dataframe\">\n",
       "  <thead>\n",
       "    <tr style=\"text-align: right;\">\n",
       "      <th></th>\n",
       "      <th>FEDFUNDS</th>\n",
       "    </tr>\n",
       "    <tr>\n",
       "      <th>DATE</th>\n",
       "      <th></th>\n",
       "    </tr>\n",
       "  </thead>\n",
       "  <tbody>\n",
       "    <tr>\n",
       "      <th>1954-07-01</th>\n",
       "      <td>0.80</td>\n",
       "    </tr>\n",
       "    <tr>\n",
       "      <th>1954-08-01</th>\n",
       "      <td>1.22</td>\n",
       "    </tr>\n",
       "    <tr>\n",
       "      <th>1954-09-01</th>\n",
       "      <td>1.07</td>\n",
       "    </tr>\n",
       "  </tbody>\n",
       "</table>\n",
       "</div>"
      ],
      "text/plain": [
       "            FEDFUNDS\n",
       "DATE                \n",
       "1954-07-01      0.80\n",
       "1954-08-01      1.22\n",
       "1954-09-01      1.07"
      ]
     },
     "execution_count": 12,
     "metadata": {},
     "output_type": "execute_result"
    }
   ],
   "source": [
    "#datareader를 사용하여 FRED에서 데이터를 가져온다.\n",
    "df = pdr.DataReader('FEDFUNDS', 'fred', start, end)\n",
    "df.head(3)"
   ]
  },
  {
   "cell_type": "code",
   "execution_count": 13,
   "id": "622e1881",
   "metadata": {},
   "outputs": [
    {
     "data": {
      "text/html": [
       "<div>\n",
       "<style scoped>\n",
       "    .dataframe tbody tr th:only-of-type {\n",
       "        vertical-align: middle;\n",
       "    }\n",
       "\n",
       "    .dataframe tbody tr th {\n",
       "        vertical-align: top;\n",
       "    }\n",
       "\n",
       "    .dataframe thead th {\n",
       "        text-align: right;\n",
       "    }\n",
       "</style>\n",
       "<table border=\"1\" class=\"dataframe\">\n",
       "  <thead>\n",
       "    <tr style=\"text-align: right;\">\n",
       "      <th></th>\n",
       "      <th>FEDFUNDS</th>\n",
       "    </tr>\n",
       "    <tr>\n",
       "      <th>DATE</th>\n",
       "      <th></th>\n",
       "    </tr>\n",
       "  </thead>\n",
       "  <tbody>\n",
       "    <tr>\n",
       "      <th>2023-02-01</th>\n",
       "      <td>4.57</td>\n",
       "    </tr>\n",
       "    <tr>\n",
       "      <th>2023-03-01</th>\n",
       "      <td>4.65</td>\n",
       "    </tr>\n",
       "    <tr>\n",
       "      <th>2023-04-01</th>\n",
       "      <td>4.83</td>\n",
       "    </tr>\n",
       "  </tbody>\n",
       "</table>\n",
       "</div>"
      ],
      "text/plain": [
       "            FEDFUNDS\n",
       "DATE                \n",
       "2023-02-01      4.57\n",
       "2023-03-01      4.65\n",
       "2023-04-01      4.83"
      ]
     },
     "execution_count": 13,
     "metadata": {},
     "output_type": "execute_result"
    }
   ],
   "source": [
    "df.tail(3)"
   ]
  },
  {
   "cell_type": "code",
   "execution_count": 14,
   "id": "10dc2b64",
   "metadata": {},
   "outputs": [],
   "source": [
    "import matplotlib.pyplot as plt\n",
    "plt.rcParams['font.family'] = 'Malgun Gothic'\n"
   ]
  },
  {
   "cell_type": "code",
   "execution_count": 15,
   "id": "f4544f89",
   "metadata": {},
   "outputs": [
    {
     "data": {
      "image/png": "[encoded data removed]",
      "text/plain": [
       "<Figure size 640x480 with 1 Axes>"
      ]
     },
     "metadata": {},
     "output_type": "display_data"
    }
   ],
   "source": [
    "#데이터 시각화하기\n",
    "plt.plot(df.index, df.FEDFUNDS)\n",
    "plt.xlabel('년도')\n",
    "plt.ylabel('금리')\n",
    "plt.title('연준 금리')\n",
    "plt.show()"
   ]
  },
  {
   "cell_type": "code",
   "execution_count": 16,
   "id": "1c4db773",
   "metadata": {},
   "outputs": [
    {
     "data": {
      "text/html": [
       "<div>\n",
       "<style scoped>\n",
       "    .dataframe tbody tr th:only-of-type {\n",
       "        vertical-align: middle;\n",
       "    }\n",
       "\n",
       "    .dataframe tbody tr th {\n",
       "        vertical-align: top;\n",
       "    }\n",
       "\n",
       "    .dataframe thead th {\n",
       "        text-align: right;\n",
       "    }\n",
       "</style>\n",
       "<table border=\"1\" class=\"dataframe\">\n",
       "  <thead>\n",
       "    <tr style=\"text-align: right;\">\n",
       "      <th></th>\n",
       "      <th>FEDFUNDS</th>\n",
       "    </tr>\n",
       "    <tr>\n",
       "      <th>DATE</th>\n",
       "      <th></th>\n",
       "    </tr>\n",
       "  </thead>\n",
       "  <tbody>\n",
       "    <tr>\n",
       "      <th>2000-01-01</th>\n",
       "      <td>5.45</td>\n",
       "    </tr>\n",
       "    <tr>\n",
       "      <th>2000-02-01</th>\n",
       "      <td>5.73</td>\n",
       "    </tr>\n",
       "    <tr>\n",
       "      <th>2000-03-01</th>\n",
       "      <td>5.85</td>\n",
       "    </tr>\n",
       "  </tbody>\n",
       "</table>\n",
       "</div>"
      ],
      "text/plain": [
       "            FEDFUNDS\n",
       "DATE                \n",
       "2000-01-01      5.45\n",
       "2000-02-01      5.73\n",
       "2000-03-01      5.85"
      ]
     },
     "execution_count": 16,
     "metadata": {},
     "output_type": "execute_result"
    }
   ],
   "source": [
    "df_after_2000 = df[df.index >= '2000-01-01']\n",
    "df_after_2000.head(3)"
   ]
  },
  {
   "cell_type": "code",
   "execution_count": 18,
   "id": "cec77659",
   "metadata": {},
   "outputs": [
    {
     "data": {
      "image/png": "[encoded data removed]",
      "text/plain": [
       "<Figure size 640x480 with 1 Axes>"
      ]
     },
     "metadata": {},
     "output_type": "display_data"
    }
   ],
   "source": [
    "#데이터 시각화하기\n",
    "plt.plot(df_after_2000.index, df_after_2000.FEDFUNDS)\n",
    "plt.xlabel('년도')\n",
    "plt.ylabel('금리')\n",
    "plt.title('연준 금리')\n",
    "plt.show()"
   ]
  },
  {
   "cell_type": "code",
   "execution_count": 19,
   "id": "f3ef781a",
   "metadata": {},
   "outputs": [
    {
     "data": {
      "text/plain": [
       "DATE\n",
       "2000-01-01     NaN\n",
       "2000-02-01    0.28\n",
       "2000-03-01    0.12\n",
       "2000-04-01    0.17\n",
       "2000-05-01    0.25\n",
       "              ... \n",
       "2022-12-01    0.32\n",
       "2023-01-01    0.23\n",
       "2023-02-01    0.24\n",
       "2023-03-01    0.08\n",
       "2023-04-01    0.18\n",
       "Name: FEDFUNDS, Length: 280, dtype: float64"
      ]
     },
     "execution_count": 19,
     "metadata": {},
     "output_type": "execute_result"
    }
   ],
   "source": [
    "df_after_2000.FEDFUNDS.diff()"
   ]
  },
  {
   "cell_type": "code",
   "execution_count": null,
   "id": "132fc783",
   "metadata": {},
   "outputs": [],
   "source": []
  }
 ],
 "metadata": {
  "kernelspec": {
   "display_name": "Python 3 (ipykernel)",
   "language": "python",
   "name": "python3"
  },
  "language_info": {
   "codemirror_mode": {
    "name": "ipython",
    "version": 3
   },
   "file_extension": ".py",
   "mimetype": "text/x-python",
   "name": "python",
   "nbconvert_exporter": "python",
   "pygments_lexer": "ipython3",
   "version": "3.9.13"
  }
 },
 "nbformat": 4,
 "nbformat_minor": 5
}
